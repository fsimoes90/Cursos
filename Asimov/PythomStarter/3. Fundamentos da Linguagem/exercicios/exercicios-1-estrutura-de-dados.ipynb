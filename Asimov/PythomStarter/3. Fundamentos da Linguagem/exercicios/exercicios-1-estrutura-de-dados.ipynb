{
 "cells": [
  {
   "cell_type": "markdown",
   "metadata": {},
   "source": [
    "<img src=\"https://asimov.academy/wp-content/uploads/2021/01/logo.png\" width=\"200\"/>\n",
    "_____________________________________________\n",
    "\n",
    "## Exercícios #1 - Estruturas de dados\n"
   ]
  },
  {
   "cell_type": "markdown",
   "metadata": {},
   "source": [
    "### Exercício 1\n",
    "Utilizando o built-in method input(), crie um programa que receba a altura e o peso de uma pessoa e imprima na tela o IMC da mesma."
   ]
  },
  {
   "cell_type": "code",
   "execution_count": 19,
   "metadata": {},
   "outputs": [
    {
     "name": "stdout",
     "output_type": "stream",
     "text": [
      "Calculo de IMC\n",
      "Seu IMC é: 22.04.\n",
      "Peso saudável\n"
     ]
    }
   ],
   "source": [
    "print('Calculo de IMC')\n",
    "altura = float(input('informe sua altura:'))\n",
    "peso = float(input('informe seu peso:'))\n",
    "imc = round(peso / (altura**2),2)\n",
    "if imc < 18.5:\n",
    "    print(f'Seu IMC é: {imc}.\\nBaixo peso')\n",
    "elif 18.5 <= imc <= 24.9:\n",
    "    print(f'Seu IMC é: {imc}.\\nPeso saudável')\n",
    "elif 25.0 <= imc <= 29.9:\n",
    "    print(f'Seu IMC é: {imc}.\\nPeso saudável')\n",
    "elif imc >= 30.0:\n",
    "    print(f'Seu IMC é: {imc}.\\nsuperior: Obesidade')\n",
    "else: print('Não foi possivel calcular seu IMC com os valores passados')\n",
    "\n"
   ]
  },
  {
   "cell_type": "markdown",
   "metadata": {},
   "source": [
    "### Exercício 2 \n",
    "Escreva um programa que pergunte o nome completo do usuário e cumprimente o mesmo pelo primeiro nome."
   ]
  },
  {
   "cell_type": "code",
   "execution_count": 24,
   "metadata": {},
   "outputs": [
    {
     "name": "stdout",
     "output_type": "stream",
     "text": [
      "Olá, Fernando\n"
     ]
    }
   ],
   "source": [
    "nome = input('Qual o seu nome completo? ')\n",
    "nomeabre = nome.split()\n",
    "print(f'Olá, {nomeabre[0]}')"
   ]
  },
  {
   "cell_type": "markdown",
   "metadata": {},
   "source": [
    "### Exercício 3\n",
    "Desenho um código que extraia o domínio de um e-mail informado."
   ]
  },
  {
   "cell_type": "code",
   "execution_count": 18,
   "metadata": {},
   "outputs": [
    {
     "name": "stdout",
     "output_type": "stream",
     "text": [
      "2\n"
     ]
    }
   ],
   "source": [
    "email = input('Digite seu e-mail.')\n",
    "dominio = email.split('@')\n",
    "if len(dominio) == 2:\n",
    "    print(f'o domínio do e-mail é {dominio[1]}')\n",
    "else:\n",
    "    print('Dominio não localizado no e-mail digitado')"
   ]
  },
  {
   "cell_type": "markdown",
   "metadata": {},
   "source": [
    "### Exercício 4 \n",
    "Faça um programa para uma loja de tintas. A pessoa informa a área em m2 que deseja pintar, e o script calculará a quantidade de latas de tinta que a pessoa deve comprar e o valor. Considere que cada litro de tinta pinta 3m2, que cada lata contém 18L e que custa R$ 80."
   ]
  },
  {
   "cell_type": "code",
   "execution_count": 31,
   "metadata": {},
   "outputs": [
    {
     "name": "stdout",
     "output_type": "stream",
     "text": [
      "Sera necessário 33.33 litros de tinta para pintar 100.0 m2.\n",
      "Você gastará R$ 160 em 2 latas de tinta.\n",
      "Irá sobrar 2.67 Litros\n"
     ]
    }
   ],
   "source": [
    "import math\n",
    "qtd_informada = float(input('Informe a aréa em m2 que deseja pintar: '))\n",
    "qtd_necessaria = round((qtd_informada / 3),2)\n",
    "latas_necessarias = math.ceil(qtd_necessaria / 18)\n",
    "custo = latas_necessarias * 80\n",
    "sobra = round((latas_necessarias - (qtd_necessaria/18)) * 18,2)\n",
    "resultado = f'Sera necessário {qtd_necessaria} litros de tinta para pintar {qtd_informada} m2.'\n",
    "resultado += f'\\nVocê gastará R$ {custo} em {latas_necessarias} latas de tinta.'\n",
    "resultado += f'\\nIrá sobrar {sobra} Litros'\n",
    "print(resultado)\n",
    "\n"
   ]
  },
  {
   "cell_type": "markdown",
   "metadata": {},
   "source": [
    "### Exercício 5\n",
    "Faça um Programa que pergunte quanto você ganha por hora e o número de horas trabalhadas no mês. Calcule e mostre o total do seu salário no referido mês, sabendo-se que são descontados 11% para o Imposto de Renda, 8% para o INSS e 5% para o sindicato, faça um programa que nos dê:\n",
    "1. Salário bruto.\n",
    "2. Quanto pagou ao INSS.\n",
    "3. Quanto pagou ao sindicato.\n",
    "4. O salário líquido."
   ]
  },
  {
   "cell_type": "code",
   "execution_count": 37,
   "metadata": {},
   "outputs": [
    {
     "name": "stdout",
     "output_type": "stream",
     "text": [
      "Com ganho de R$18.0 por hora de servico e tendo trabalhado 176 Horas,\n",
      "Seu salário bruto é R$3168.0.\n",
      "Você terá de encargos R$348.48 de imposto de renda, R$253.44 de inss e R$158.4 de Sindicato.\n",
      "Seu salario liquido é R$2407.68.\n"
     ]
    }
   ],
   "source": [
    "valorHora = float(input('Informe o valor ganho por hora: '))\n",
    "horasTrabalhadas = int(input('Informe a quantidade de horas trabalhadas: '))\n",
    "salario = valorHora * horasTrabalhadas\n",
    "imposto = round(0.11 * salario,2)\n",
    "inss = round(0.08 * salario,2)\n",
    "sindicato = round(0.05 * salario,2)\n",
    "valorLiquido = round(salario - imposto - inss - sindicato,2)\n",
    "sLiquido = f'Com ganho de R${valorHora} por hora de servico e tendo trabalhado {horasTrabalhadas} Horas,'\n",
    "sLiquido += f'\\nSeu salário bruto é R${salario}.'\n",
    "sLiquido += f'\\nVocê terá de encargos R${imposto} de imposto de renda, R${inss} de inss e R${sindicato} de Sindicato.'\n",
    "sLiquido += f'\\nSeu salario liquido é R${valorLiquido}.'\n",
    "print(sLiquido)"
   ]
  }
 ],
 "metadata": {
  "kernelspec": {
   "display_name": "Python 3",
   "language": "python",
   "name": "python3"
  },
  "language_info": {
   "codemirror_mode": {
    "name": "ipython",
    "version": 3
   },
   "file_extension": ".py",
   "mimetype": "text/x-python",
   "name": "python",
   "nbconvert_exporter": "python",
   "pygments_lexer": "ipython3",
   "version": "3.11.4"
  }
 },
 "nbformat": 4,
 "nbformat_minor": 4
}
