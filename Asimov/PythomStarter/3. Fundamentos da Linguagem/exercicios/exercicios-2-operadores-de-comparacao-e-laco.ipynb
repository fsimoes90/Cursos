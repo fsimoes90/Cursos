{
 "cells": [
  {
   "cell_type": "markdown",
   "metadata": {},
   "source": [
    "<img src=\"https://asimov.academy/wp-content/uploads/2021/01/logo.png\" width=\"200\"/>\n",
    "_____________________________________________\n",
    "\n",
    "## Exercícios #2 - Operadores de comparação e laços\n"
   ]
  },
  {
   "cell_type": "markdown",
   "metadata": {},
   "source": [
    "### Exercício 1\n",
    "Faça um programa para a leitura de duas notas parciais de um aluno. O programa deve calcular a média alcançada por aluno e apresentar:\n",
    "- A mensagem \"Aprovado\", se a média alcançada for maior ou igual a 7;\n",
    "- A mensagem \"Reprovado\", se a média for menor do que 7;\n",
    "- A mensagem \"Aprovado com Distinção\", se a média for igual a 10."
   ]
  },
  {
   "cell_type": "code",
   "execution_count": 3,
   "metadata": {},
   "outputs": [
    {
     "name": "stdout",
     "output_type": "stream",
     "text": [
      "Reprovado com nota média 4.5\n"
     ]
    }
   ],
   "source": [
    "nota1 = float(input('Informe a nota 1: '))\n",
    "nota2 = float(input('Informe a nota 2: '))\n",
    "media = (nota1 + nota2) / 2\n",
    "if media < 7:\n",
    "    print(f'Reprovado com nota média {media}')\n",
    "elif media >= 7 < 10:\n",
    "    print(f'Aprovado com nota média {media}')\n",
    "elif media == 10:\n",
    "    print(f'Aprovado com Distincao com nota média {media}')\n",
    "else:\n",
    "    print('Não foi possivel calcular sua nota com os valores passados')\n",
    "    \n",
    "\n"
   ]
  },
  {
   "cell_type": "markdown",
   "metadata": {},
   "source": [
    "### Exercício 2\n",
    "Escreva um script que leia três números e mostre o maior e o menor deles."
   ]
  },
  {
   "cell_type": "code",
   "execution_count": 5,
   "metadata": {},
   "outputs": [
    {
     "name": "stdout",
     "output_type": "stream",
     "text": [
      "O menor numero e: 2\n",
      "O maior numero e: 20\n"
     ]
    }
   ],
   "source": [
    "num1 = int(input('Informe o primeiro numero: '))\n",
    "num2 = int(input('Informe o segundo numero: '))\n",
    "num3 = int(input('Informe o terceiro numero: '))\n",
    "listnum = sorted([num1,num2,num3])\n",
    "primnum = print(f'O menor numero e: {listnum[0]}')\n",
    "segmnum = print(f'O maior numero e: {listnum[-1]}')"
   ]
  },
  {
   "cell_type": "markdown",
   "metadata": {},
   "source": [
    "### Exercício 3 \n",
    "Nome na vertical em escada. \n",
    "\n",
    "F<br>\n",
    "FU<br>\n",
    "FUL<br>\n",
    "FULA<br>\n",
    "FULAN<br>\n",
    "FULANO<br>"
   ]
  },
  {
   "cell_type": "code",
   "execution_count": 1,
   "metadata": {},
   "outputs": [
    {
     "name": "stdout",
     "output_type": "stream",
     "text": [
      "\n",
      "f\n",
      "fe\n",
      "fer\n",
      "fern\n",
      "ferna\n",
      "fernan\n",
      "fernand\n",
      "fernando\n"
     ]
    }
   ],
   "source": [
    "palavra = input('Digite uma palavra: ')\n",
    "tamanho = range(len(palavra)+1)\n",
    "for i in tamanho:\n",
    "    print(palavra[:i])"
   ]
  },
  {
   "cell_type": "markdown",
   "metadata": {},
   "source": [
    "### Exercício 4\n",
    "A série de Fibonacci é formada pela seqüência 1,1,2,3,5,8,13,21,34,55,... (o próximo termo, a partir do terceiro, é sempre gerado a partir do somatório dos últimos dois). Faça um programa capaz de gerar a série até o n−ésimo termo (onde o valor n deve ser inserido pelo usuário)."
   ]
  },
  {
   "cell_type": "code",
   "execution_count": 2,
   "metadata": {},
   "outputs": [
    {
     "name": "stdout",
     "output_type": "stream",
     "text": [
      "Série de Fibonacci até o, 10 + -ésimo termo:\n",
      "1\n",
      "2\n",
      "3\n",
      "5\n",
      "8\n",
      "13\n",
      "21\n",
      "34\n",
      "55\n",
      "89\n"
     ]
    }
   ],
   "source": [
    "n = int(input('Digite um numero: '))\n",
    "termoAtual = 1\n",
    "termoAnterior = 1\n",
    "if n<=0:\n",
    "    print('O valor precisa ser maior que 0')\n",
    "\n",
    "elif    n == 1:\n",
    "    print(\"Série de Fibonacci até o 1º termo: 1\")\n",
    "else:\n",
    "    print(f'Série de Fibonacci até o, {n} + -ésimo termo:' )\n",
    "    print(f'{termoAtual}')\n",
    "    \n",
    "    for i in range(2, n + 1):\n",
    "        proxTermo = termoAtual + termoAnterior\n",
    "        termoAnterior = termoAtual\n",
    "        termoAtual = proxTermo\n",
    "        print(termoAtual)\n",
    "    "
   ]
  },
  {
   "cell_type": "markdown",
   "metadata": {},
   "source": [
    "### Exercício 5\n",
    "Faça um programa que leia e valide as seguintes informações:\n",
    "- Nome: maior que 3 caracteres;\n",
    "- Idade: entre 0 e 150;\n",
    "- Salário: maior que zero;\n",
    "- Sexo: 'f' ou 'm';\n",
    "- Estado Civil: 's', 'c', 'v', 'd';"
   ]
  },
  {
   "cell_type": "code",
   "execution_count": 26,
   "metadata": {},
   "outputs": [
    {
     "name": "stdout",
     "output_type": "stream",
     "text": [
      "Nome: Fernando\n",
      "Idade: 33\n",
      "Salário: 2000.0\n",
      "Sexo: m\n",
      "Estado Civil: c\n"
     ]
    }
   ],
   "source": [
    "nome = input(\"Digite seu nome: \")\n",
    "while len(nome) <= 3:\n",
    "    print('O nome deve ter mais de 3 caracteres.')\n",
    "    nome = input('Digite seu nome novamente: ')\n",
    "\n",
    "idade = int(input('Digite sua idade: '))\n",
    "while idade <= 0 or idade > 150:\n",
    "    print('A idade deve estar entre 0 e 150 anos.')\n",
    "    idade = int(input('Digite sua idade novamente: '))\n",
    "\n",
    "salario = float(input('Digite seu salário: '))\n",
    "while salario <= 0:\n",
    "    print('O salário deve ser maior que 0.')\n",
    "    salario = float(input('Digite seu salário novamente: '))\n",
    "\n",
    "sexo = input('Digite seu sexo (f/m): ')\n",
    "while sexo != 'f' and sexo != 'm':\n",
    "    print(\"Sexo inválido. Digite 'f' para feminino ou 'm' para masculino.\")\n",
    "    sexo = input('Digite seu sexo novamente (f/m): ')\n",
    "\n",
    "estadoCivil = input('Digite seu estado civil (s/c/v/d): ')\n",
    "while estadoCivil not in ['s', 'c', 'v', 'd']:\n",
    "    print(\"Estado civil inválido. Digite 's' para solteiro, 'c' para casado, 'v' para viúvo ou 'd' para divorciado.\")\n",
    "    estadoCivil = input('Digite seu estado civil novamente (s/c/v/d): ')\n",
    "\n",
    "print(f'Nome: {nome}')\n",
    "print(f'Idade: {idade}')\n",
    "print(f'Salário: {salario}')\n",
    "print(f'Sexo: {sexo}')\n",
    "print(f'Estado Civil: {estadoCivil}')\n"
   ]
  },
  {
   "cell_type": "markdown",
   "metadata": {},
   "source": [
    "### Exercício 6\n",
    "Faça um programa que peça um número inteiro e determine se ele é ou não um número primo. Um número primo é aquele que é divisível somente por ele mesmo e por 1. \n",
    "Dica: Utilize o operador aritmético `%`, que retorna o resto da divisão de dois números."
   ]
  },
  {
   "cell_type": "code",
   "execution_count": 29,
   "metadata": {},
   "outputs": [
    {
     "name": "stdout",
     "output_type": "stream",
     "text": [
      "11 é um número primo.\n"
     ]
    }
   ],
   "source": [
    "numero = int(input('Digite um numero: '))\n",
    "if numero <= 1:\n",
    "    print(numero, \"não é um número primo.\")\n",
    "else:\n",
    "    for divisor in range(2, numero):\n",
    "        if numero % divisor == 0:\n",
    "            print(numero, \"não é um número primo.\")\n",
    "            break\n",
    "    else:\n",
    "        print(numero, \"é um número primo.\")\n"
   ]
  },
  {
   "cell_type": "code",
   "execution_count": null,
   "metadata": {},
   "outputs": [],
   "source": []
  }
 ],
 "metadata": {
  "kernelspec": {
   "display_name": "Python 3 (ipykernel)",
   "language": "python",
   "name": "python3"
  },
  "language_info": {
   "codemirror_mode": {
    "name": "ipython",
    "version": 3
   },
   "file_extension": ".py",
   "mimetype": "text/x-python",
   "name": "python",
   "nbconvert_exporter": "python",
   "pygments_lexer": "ipython3",
   "version": "3.11.4"
  }
 },
 "nbformat": 4,
 "nbformat_minor": 4
}
