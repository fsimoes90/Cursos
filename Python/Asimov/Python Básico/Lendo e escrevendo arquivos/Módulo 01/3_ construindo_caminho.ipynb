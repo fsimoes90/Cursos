{
 "cells": [
  {
   "cell_type": "code",
   "execution_count": 1,
   "metadata": {},
   "outputs": [
    {
     "name": "stdout",
     "output_type": "stream",
     "text": [
      "primeira_pasta\\segunda_pasta\n"
     ]
    }
   ],
   "source": [
    "from pathlib import Path\n",
    "\n",
    "caminho = Path('primeira_pasta/segunda_pasta')\n",
    "\n",
    "print(caminho)"
   ]
  },
  {
   "cell_type": "code",
   "execution_count": 3,
   "metadata": {},
   "outputs": [
    {
     "name": "stdout",
     "output_type": "stream",
     "text": [
      "primeira_pasta\\segunda_pasta\n"
     ]
    }
   ],
   "source": [
    "caminho = Path('primeira_pasta') /'segunda_pasta'\n",
    "print(caminho)"
   ]
  },
  {
   "cell_type": "code",
   "execution_count": 5,
   "metadata": {},
   "outputs": [
    {
     "name": "stdout",
     "output_type": "stream",
     "text": [
      "primeira_pasta\\segunda_pasta\\arquivo1.txt\n",
      "primeira_pasta\\segunda_pasta\\arquivo2.txt\n",
      "primeira_pasta\\segunda_pasta\\arquivo3.txt\n"
     ]
    }
   ],
   "source": [
    "for nome in ['arquivo1.txt', 'arquivo2.txt', 'arquivo3.txt', ]:\n",
    "    caminho_arquivo = caminho / nome\n",
    "    print(caminho_arquivo)"
   ]
  },
  {
   "cell_type": "code",
   "execution_count": 6,
   "metadata": {},
   "outputs": [
    {
     "name": "stdout",
     "output_type": "stream",
     "text": [
      "C:\\Users\\FAS\n",
      "C:\\Users\\FAS\\documents\\assim por diante\n"
     ]
    }
   ],
   "source": [
    "print(Path.home())\n",
    "print(Path.home() / 'documents' / 'assim por diante')"
   ]
  },
  {
   "cell_type": "code",
   "execution_count": 3,
   "metadata": {},
   "outputs": [
    {
     "name": "stdout",
     "output_type": "stream",
     "text": [
      "C:\\Users\\FAS\\Documents\\assim_por_diante\n"
     ]
    }
   ],
   "source": [
    "import os\n",
    "\n",
    "documents_path = os.path.join(os.path.expanduser('~'), 'Documents', 'assim_por_diante')\n",
    "print(documents_path)\n"
   ]
  },
  {
   "cell_type": "code",
   "execution_count": 7,
   "metadata": {},
   "outputs": [
    {
     "name": "stdout",
     "output_type": "stream",
     "text": [
      "c:\\Users\\FAS\\GitHub\\Cursos\\Python\\Asimov\\Lendo e escrevendo arquivos\n",
      "C:\\Users\\FAS\n"
     ]
    }
   ],
   "source": [
    "from pathlib import Path\n",
    "print(Path.cwd())\n",
    "print(Path.home())"
   ]
  },
  {
   "cell_type": "code",
   "execution_count": 21,
   "metadata": {},
   "outputs": [
    {
     "ename": "NameError",
     "evalue": "name '__file__' is not defined",
     "output_type": "error",
     "traceback": [
      "\u001b[1;31m---------------------------------------------------------------------------\u001b[0m",
      "\u001b[1;31mNameError\u001b[0m                                 Traceback (most recent call last)",
      "Cell \u001b[1;32mIn[21], line 2\u001b[0m\n\u001b[0;32m      1\u001b[0m \u001b[38;5;28;01mfrom\u001b[39;00m\u001b[38;5;250m \u001b[39m\u001b[38;5;21;01mpathlib\u001b[39;00m\u001b[38;5;250m \u001b[39m\u001b[38;5;28;01mimport\u001b[39;00m Path\n\u001b[1;32m----> 2\u001b[0m caminho_pasta \u001b[38;5;241m=\u001b[39m Path(\u001b[38;5;18;43m__file__\u001b[39;49m)\n\u001b[0;32m      3\u001b[0m \u001b[38;5;28mprint\u001b[39m(caminho_pasta)\n\u001b[0;32m      4\u001b[0m \u001b[38;5;28mprint\u001b[39m(caminho_pasta\u001b[38;5;241m.\u001b[39mparent)\n",
      "\u001b[1;31mNameError\u001b[0m: name '__file__' is not defined"
     ]
    }
   ],
   "source": [
    "from pathlib import Path\n",
    "caminho_pasta = Path(__file__)\n",
    "print(caminho_pasta)\n",
    "print(caminho_pasta.parent)\n",
    "print(caminho_pasta.parent.parent)\n",
    "print(caminho_pasta.parent.parent.parent)\n",
    "print(caminho_pasta.anchor)\n",
    "print(caminho_pasta.name)\n",
    "print(caminho_pasta.stem)\n",
    "print(caminho_pasta.suffix)\n",
    "print(caminho_pasta.drive)\n",
    "print(caminho_pasta.parents[0])\n",
    "print(caminho_pasta.parents[1])\n",
    "print(caminho_pasta.parents[2])\n",
    "print(caminho_pasta.parents[3])\n",
    "print(caminho_pasta.parents[4])\n"
   ]
  },
  {
   "cell_type": "code",
   "execution_count": 25,
   "metadata": {},
   "outputs": [
    {
     "name": "stdout",
     "output_type": "stream",
     "text": [
      "['-1.14-windows.xml', '.bash_history', '.cisco', '.cursor', '.gitconfig', '.gk', '.ipython', '.jupyter', '.lesshst', '.python_history', '.ssh', '.swt', '.vscode', 'Ambiente de Impressão', 'Ambiente de Rede', 'AppData', 'Configurações Locais', 'Contacts', 'Cookies', 'Dados de Aplicativos', 'Documents', 'Downloads', 'Favorites', 'Games', 'GitHub', 'Imagens', 'Links', 'Menu Iniciar', 'Meus Documentos', 'Microsoft', 'Modelos', 'Music', 'NTUSER.DAT', 'ntuser.dat.LOG1', 'ntuser.dat.LOG2', 'NTUSER.DAT{2ad838bc-efea-11ee-a54d-000d3a94eaa1}.TM.blf', 'NTUSER.DAT{2ad838bc-efea-11ee-a54d-000d3a94eaa1}.TMContainer00000000000000000001.regtrans-ms', 'NTUSER.DAT{2ad838bc-efea-11ee-a54d-000d3a94eaa1}.TMContainer00000000000000000002.regtrans-ms', 'ntuser.ini', 'OneDrive', 'OneDrive - NORTH TELECOMUNICACOES EIRELI', 'Recent', 'Saved Games', 'Searches', 'SendTo', 'Tracing', 'Videos', 'Área de Trabalho']\n",
      "['3_ construindo_caminho.ipynb', '4_arquivos_absolutos_e_relativos.py', '5_manipulando_caminhos.py', '6_retornando_conteudos.py', '7_exercício.py']\n"
     ]
    }
   ],
   "source": [
    "import os\n",
    "from pathlib import Path\n",
    "print(os.listdir(Path.home()))\n",
    "print(os.listdir(Path.cwd()))"
   ]
  },
  {
   "cell_type": "code",
   "execution_count": 26,
   "metadata": {},
   "outputs": [
    {
     "name": "stdout",
     "output_type": "stream",
     "text": [
      "True\n"
     ]
    }
   ],
   "source": [
    "from pathlib import Path\n",
    "print(Path.home().exists())"
   ]
  },
  {
   "cell_type": "code",
   "execution_count": 28,
   "metadata": {},
   "outputs": [
    {
     "name": "stdout",
     "output_type": "stream",
     "text": [
      "False\n"
     ]
    }
   ],
   "source": [
    "from pathlib import Path\n",
    "nao_existe = Path.home() / 'nao_existe'\n",
    "print(nao_existe.exists())"
   ]
  },
  {
   "cell_type": "code",
   "execution_count": 3,
   "metadata": {},
   "outputs": [
    {
     "ename": "NameError",
     "evalue": "name '__file__' is not defined",
     "output_type": "error",
     "traceback": [
      "\u001b[1;31m---------------------------------------------------------------------------\u001b[0m",
      "\u001b[1;31mNameError\u001b[0m                                 Traceback (most recent call last)",
      "Cell \u001b[1;32mIn[3], line 2\u001b[0m\n\u001b[0;32m      1\u001b[0m \u001b[38;5;28;01mfrom\u001b[39;00m\u001b[38;5;250m \u001b[39m\u001b[38;5;21;01mpathlib\u001b[39;00m\u001b[38;5;250m \u001b[39m\u001b[38;5;28;01mimport\u001b[39;00m Path\n\u001b[1;32m----> 2\u001b[0m \u001b[38;5;28mprint\u001b[39m(Path(\u001b[38;5;18;43m__file__\u001b[39;49m))\n\u001b[0;32m      3\u001b[0m \u001b[38;5;28mprint\u001b[39m(Path(\u001b[38;5;18m__file__\u001b[39m)\u001b[38;5;241m.\u001b[39mis_file())\n\u001b[0;32m      4\u001b[0m \u001b[38;5;28mprint\u001b[39m(Path(\u001b[38;5;18m__file__\u001b[39m)\u001b[38;5;241m.\u001b[39mparent)\n",
      "\u001b[1;31mNameError\u001b[0m: name '__file__' is not defined"
     ]
    }
   ],
   "source": [
    "from pathlib import Path\n",
    "print(Path(__file__))\n",
    "print(Path(__file__).is_file())\n",
    "print(Path(__file__).parent)\n",
    "print(Path(__file__).parent.is_file())\n",
    "print(Path(__file__).parent.is_dir())\n"
   ]
  },
  {
   "cell_type": "code",
   "execution_count": 2,
   "metadata": {},
   "outputs": [
    {
     "name": "stdout",
     "output_type": "stream",
     "text": [
      "PythonSoftwareFoundation.Python.3.13_qbz5n2kfra8p0 2.72 GB\n",
      "MSTeams_8wekyb3d8bbwe          1.22 GB\n",
      "ROBLOXCORPORATION.ROBLOX_55nm5eh3cm0pr 1.17 GB\n",
      "7EE7776C.LinkedInforWindows_w1wdnht996qgy 666.60 MB\n",
      "MicrosoftWindows.Client.CBS_cw5n1h2txyewy 591.18 MB\n",
      "Microsoft.4297127D64EC6_8wekyb3d8bbwe 486.19 MB\n",
      "5319275A.WhatsAppDesktop_cv1g1gvanyjgm 273.57 MB\n",
      "Microsoft.SkypeApp_kzf8qxf38zg5c 178.09 MB\n",
      "TelegramMessengerLLP.TelegramDesktop_t4vj0pshhgkwm 125.49 MB\n",
      "MicrosoftWindows.Client.WebExperience_cw5n1h2txyewy 90.53 MB\n",
      "Microsoft.WindowsStore_8wekyb3d8bbwe 59.94 MB\n",
      "Microsoft.MinecraftUWP_8wekyb3d8bbwe 24.29 MB\n",
      "Microsoft.MicrosoftOfficeHub_8wekyb3d8bbwe 23.21 MB\n",
      "Microsoft.GamingServices_8wekyb3d8bbwe 18.80 MB\n",
      "DolbyLaboratories.DolbyAccess_rz1tebttyb220 17.36 MB\n",
      "E046963F.LenovoCompanion_k1h2ywk1493x8 15.98 MB\n",
      "Microsoft.Windows.Photos_8wekyb3d8bbwe 14.93 MB\n",
      "Microsoft.Whiteboard_8wekyb3d8bbwe 8.20 MB\n",
      "Microsoft.YourPhone_8wekyb3d8bbwe 6.27 MB\n",
      "Microsoft.Windows.ContentDeliveryManager_cw5n1h2txyewy 5.87 MB\n",
      "Microsoft.ZuneMusic_8wekyb3d8bbwe 5.76 MB\n",
      "microsoft.windowscommunicationsapps_8wekyb3d8bbwe 5.66 MB\n",
      "Microsoft.AAD.BrokerPlugin_cw5n1h2txyewy 3.73 MB\n",
      "Microsoft.MicrosoftPowerBIDesktop_8wekyb3d8bbwe 3.37 MB\n",
      "windows.immersivecontrolpanel_cw5n1h2txyewy 2.60 MB\n",
      "Microsoft.Windows.CloudExperienceHost_cw5n1h2txyewy 2.42 MB\n",
      "Microsoft.Windows.StartMenuExperienceHost_cw5n1h2txyewy 2.11 MB\n",
      "Microsoft.XboxGamingOverlay_8wekyb3d8bbwe 1.11 MB\n",
      "Microsoft.DesktopAppInstaller_8wekyb3d8bbwe 668.03 KB\n",
      "Microsoft.StorePurchaseApp_8wekyb3d8bbwe 659.65 KB\n",
      "Microsoft.6365217CE6EB4_8wekyb3d8bbwe 521.64 KB\n",
      "Microsoft.WindowsNotepad_8wekyb3d8bbwe 502.62 KB\n",
      "Microsoft.ScreenSketch_8wekyb3d8bbwe 489.00 KB\n",
      "Microsoft.WindowsTerminal_8wekyb3d8bbwe 434.33 KB\n",
      "Microsoft.WindowsAlarms_8wekyb3d8bbwe 431.47 KB\n",
      "Microsoft.Windows.ShellExperienceHost_cw5n1h2txyewy 374.25 KB\n",
      "Microsoft.OutlookForWindows_8wekyb3d8bbwe 370.81 KB\n",
      "Microsoft.Paint_8wekyb3d8bbwe  360.00 KB\n",
      "Microsoft.WidgetsPlatformRuntime_8wekyb3d8bbwe 348.00 KB\n",
      "Microsoft.Windows.Apprep.ChxApp_cw5n1h2txyewy 340.66 KB\n",
      "Microsoft.Win32WebViewHost_cw5n1h2txyewy 333.03 KB\n",
      "AdvancedMicroDevicesInc-2.AMDRadeonSoftware_0a9344xs7nr4m 275.42 KB\n",
      "Microsoft.LockApp_cw5n1h2txyewy 233.38 KB\n",
      "Microsoft.WindowsCalculator_8wekyb3d8bbwe 220.41 KB\n",
      "Microsoft.WindowsCamera_8wekyb3d8bbwe 216.96 KB\n",
      "E0469640.LenovoUtility_5grkq8ppsgwt4 192.43 KB\n",
      "Microsoft.SecHealthUI_8wekyb3d8bbwe 180.41 KB\n",
      "cr.sb.odm1fb667c53eb79489274bb14b20e98fbfdb15e5e2 171.01 KB\n",
      "cr.sb.odm8c3a99bdfb73ce9abf2ba64480175027ae542cad 171.01 KB\n",
      "cr.sb.odmf5200eafd3ad904629cbb0f87a78a3c7211081fe 171.01 KB\n",
      "Microsoft.AccountsControl_cw5n1h2txyewy 144.47 KB\n",
      "Microsoft.Windows.CapturePicker_cw5n1h2txyewy 144.47 KB\n",
      "Microsoft.Windows.PrintQueueActionCenter_cw5n1h2txyewy 144.47 KB\n",
      "Windows.PrintDialog_cw5n1h2txyewy 144.47 KB\n",
      "MicrosoftWindows.CrossDevice_cw5n1h2txyewy 140.00 KB\n",
      "cr.sb.cdmf5200eafd3ad904629cbb0f87a78a3c7211081fe 120.75 KB\n",
      "Microsoft.Copilot_8wekyb3d8bbwe 99.49 KB\n",
      "Microsoft.GetHelp_8wekyb3d8bbwe 97.92 KB\n",
      "cr.sb.cdm3e4d1a088c1f6d498c84f3c86de73ce49f82a104 64.85 KB\n",
      "Microsoft.OfficePushNotificationUtility_8wekyb3d8bbwe 64.00 KB\n",
      "Clipchamp.Clipchamp_yxz26nhyzhsrt 58.06 KB\n",
      "Microsoft.WinAppRuntime.DDLM.2000.609.1413.0-x6-p1_8wekyb3d8bbwe 48.00 KB\n",
      "NotepadPlusPlus_7njy0v32s6xk6  40.00 KB\n",
      "Microsoft.XboxIdentityProvider_8wekyb3d8bbwe 28.32 KB\n",
      "Microsoft.MicrosoftEdge.Stable_8wekyb3d8bbwe 24.23 KB\n",
      "Microsoft.BingWeather_8wekyb3d8bbwe 24.00 KB\n",
      "Microsoft.XboxGameOverlay_8wekyb3d8bbwe 17.37 KB\n",
      "Microsoft.ApplicationCompatibilityEnhancements_8wekyb3d8bbwe 16.00 KB\n",
      "Microsoft.AV1VideoExtension_8wekyb3d8bbwe 16.00 KB\n",
      "Microsoft.AVCEncoderVideoExtension_8wekyb3d8bbwe 16.00 KB\n",
      "Microsoft.BingSearch_8wekyb3d8bbwe 16.00 KB\n",
      "Microsoft.ECApp_8wekyb3d8bbwe  16.00 KB\n",
      "Microsoft.HEIFImageExtension_8wekyb3d8bbwe 16.00 KB\n",
      "Microsoft.HEVCVideoExtension_8wekyb3d8bbwe 16.00 KB\n",
      "Microsoft.LanguageExperiencePackpt-BR_8wekyb3d8bbwe 16.00 KB\n",
      "Microsoft.MicrosoftJournal_8wekyb3d8bbwe 16.00 KB\n",
      "Microsoft.MicrosoftStickyNotes_8wekyb3d8bbwe 16.00 KB\n",
      "Microsoft.MPEG2VideoExtension_8wekyb3d8bbwe 16.00 KB\n",
      "Microsoft.OneDriveSync_8wekyb3d8bbwe 16.00 KB\n",
      "Microsoft.People_8wekyb3d8bbwe 16.00 KB\n",
      "Microsoft.PowerAutomateDesktop_8wekyb3d8bbwe 16.00 KB\n",
      "Microsoft.VP9VideoExtensions_8wekyb3d8bbwe 16.00 KB\n",
      "Microsoft.WebMediaExtensions_8wekyb3d8bbwe 16.00 KB\n",
      "Microsoft.WebpImageExtension_8wekyb3d8bbwe 16.00 KB\n",
      "Microsoft.WinAppRuntime.DDLM.2000.609.1413.0-x8-p1_8wekyb3d8bbwe 16.00 KB\n",
      "Microsoft.Windows.DevHomeGitHubExtension_8wekyb3d8bbwe 16.00 KB\n",
      "Microsoft.Windows.DevHome_8wekyb3d8bbwe 16.00 KB\n",
      "Microsoft.Windows.NarratorQuickStart_8wekyb3d8bbwe 16.00 KB\n",
      "Microsoft.WindowsSoundRecorder_8wekyb3d8bbwe 16.00 KB\n",
      "Microsoft.XboxSpeechToTextOverlay_8wekyb3d8bbwe 16.00 KB\n",
      "Microsoft.ZuneVideo_8wekyb3d8bbwe 16.00 KB\n",
      "MicrosoftCorporationII.QuickAssist_8wekyb3d8bbwe 16.00 KB\n",
      "MicrosoftCorporationII.WinAppRuntime.Main.1.2-p1_8wekyb3d8bbwe 16.00 KB\n",
      "MicrosoftCorporationII.WinAppRuntime.Main.1.5_8wekyb3d8bbwe 16.00 KB\n",
      "MicrosoftCorporationII.WinAppRuntime.Singleton-p1_8wekyb3d8bbwe 16.00 KB\n",
      "MicrosoftCorporationII.WinAppRuntime.Singleton_8wekyb3d8bbwe 16.00 KB\n",
      "MicrosoftWindows.Client.CoreAI_cw5n1h2txyewy 16.00 KB\n",
      "1527c705-839a-4832-9118-54d4Bd6a0c89_cw5n1h2txyewy 8.00 KB\n",
      "c5e2524a-ea46-4f67-841f-6a9465d9d515_cw5n1h2txyewy 8.00 KB\n",
      "DolbyLaboratories.DolbyAudio_rz1tebttyb220 8.00 KB\n",
      "DolbyLaboratories.DolbyDigitalPlusDecoderOEM_rz1tebttyb220 8.00 KB\n",
      "E2A4F912-2574-4A75-9BB0-0D023378592B_cw5n1h2txyewy 8.00 KB\n",
      "ElevocTechnologyCo.Ltd.SmartMicrophoneSettings_ttaqwwhyt5s6t 8.00 KB\n",
      "F46D4000-FD22-4DB4-AC8E-4E1DDDE828FE_cw5n1h2txyewy 8.00 KB\n",
      "Microsoft.AsyncTextService_8wekyb3d8bbwe 8.00 KB\n",
      "Microsoft.BioEnrollment_cw5n1h2txyewy 8.00 KB\n",
      "Microsoft.CredDialogHost_cw5n1h2txyewy 8.00 KB\n",
      "Microsoft.MicrosoftEdgeDevToolsClient_8wekyb3d8bbwe 8.00 KB\n",
      "Microsoft.MixedReality.Portal_8wekyb3d8bbwe 8.00 KB\n",
      "Microsoft.Windows.ParentalControls_cw5n1h2txyewy 8.00 KB\n",
      "Microsoft.Windows.PeopleExperienceHost_cw5n1h2txyewy 8.00 KB\n",
      "Microsoft.Windows.PinningConfirmationDialog_cw5n1h2txyewy 8.00 KB\n",
      "Microsoft.Windows.XGpuEjectDialog_cw5n1h2txyewy 8.00 KB\n",
      "Microsoft.XboxGameCallableUI_cw5n1h2txyewy 8.00 KB\n",
      "MicrosoftCorporationII.WinAppRuntime.Main.1.2_8wekyb3d8bbwe 8.00 KB\n",
      "MicrosoftWindows.Client.Core_cw5n1h2txyewy 8.00 KB\n",
      "Windows.CBSPreview_cw5n1h2txyewy 8.00 KB\n",
      "WinRAR.ShellExtension_d9ma7nkbkv4rp 8.00 KB\n",
      "ActiveSync                     0.00 B\n",
      "cr.sb.odm3E4D1A088C1F6D498C84F3C86DE73CE49F82A104 0.00 B\n",
      "cr.sb.prncf5200eafd3ad904629cbb0f87a78a3c7211081fe 0.00 B\n",
      "Microsoft.DirectXRuntime_8wekyb3d8bbwe 0.00 B\n",
      "Microsoft.NET.Native.Framework.2.2_8wekyb3d8bbwe 0.00 B\n",
      "Microsoft.NET.Native.Runtime.2.2_8wekyb3d8bbwe 0.00 B\n",
      "Microsoft.Services.Store.Engagement_8wekyb3d8bbwe 0.00 B\n",
      "Microsoft.UI.Xaml.2.5_8wekyb3d8bbwe 0.00 B\n",
      "Microsoft.UI.Xaml.2.6_8wekyb3d8bbwe 0.00 B\n",
      "Microsoft.UI.Xaml.2.7_8wekyb3d8bbwe 0.00 B\n",
      "Microsoft.UI.Xaml.2.8_8wekyb3d8bbwe 0.00 B\n",
      "Microsoft.VCLibs.110.00.UWPDesktop_8wekyb3d8bbwe 0.00 B\n",
      "Microsoft.VCLibs.120.00.UWPDesktop_8wekyb3d8bbwe 0.00 B\n",
      "Microsoft.VCLibs.140.00.UWPDesktop_8wekyb3d8bbwe 0.00 B\n",
      "Microsoft.VCLibs.140.00_8wekyb3d8bbwe 0.00 B\n",
      "Microsoft.WindowsAppRuntime.1.2-preview1_8wekyb3d8bbwe 0.00 B\n",
      "Microsoft.WindowsAppRuntime.1.2_8wekyb3d8bbwe 0.00 B\n",
      "Microsoft.WindowsAppRuntime.1.3_8wekyb3d8bbwe 0.00 B\n",
      "Microsoft.WindowsAppRuntime.1.4_8wekyb3d8bbwe 0.00 B\n",
      "Microsoft.WindowsAppRuntime.1.5_8wekyb3d8bbwe 0.00 B\n",
      "Microsoft.WindowsAppRuntime.1.6_8wekyb3d8bbwe 0.00 B\n",
      "Microsoft.WindowsAppRuntime.1.7_8wekyb3d8bbwe 0.00 B\n",
      "windows_ie_ac_001              0.00 B\n"
     ]
    }
   ],
   "source": [
    "import os\n",
    "from pathlib import Path\n",
    "\n",
    "def get_folder_size(path):\n",
    "    total_size = 0\n",
    "    for dirpath, dirnames, filenames in os.walk(path, onerror=lambda e: None):\n",
    "        for f in filenames:\n",
    "            try:\n",
    "                fp = os.path.join(dirpath, f)\n",
    "                total_size += os.path.getsize(fp)\n",
    "            except:\n",
    "                pass\n",
    "    return total_size\n",
    "\n",
    "def format_size(size_bytes):\n",
    "    for unit in ['B', 'KB', 'MB', 'GB', 'TB']:\n",
    "        if size_bytes < 1024:\n",
    "            return f\"{size_bytes:.2f} {unit}\"\n",
    "        size_bytes /= 1024\n",
    "    return f\"{size_bytes:.2f} PB\"\n",
    "\n",
    "base_path = Path(r\"C:\\Users\\FAS\\AppData\\Local\\Packages\")\n",
    "\n",
    "folder_sizes = []\n",
    "\n",
    "if base_path.exists():\n",
    "    for folder in base_path.iterdir():\n",
    "        if folder.is_dir():\n",
    "            size = get_folder_size(folder)\n",
    "            folder_sizes.append((folder.name, size))\n",
    "\n",
    "    # Ordena do maior para o menor\n",
    "    folder_sizes.sort(key=lambda x: x[1], reverse=True)\n",
    "\n",
    "    # Exibe resultados\n",
    "    for name, size in folder_sizes:\n",
    "        print(f\"{name:<30} {format_size(size)}\")\n",
    "else:\n",
    "    print(\"Caminho não encontrado!\")\n"
   ]
  },
  {
   "cell_type": "code",
   "execution_count": 7,
   "metadata": {},
   "outputs": [],
   "source": [
    "from pathlib import Path\n",
    "import os\n",
    "\n",
    "def retorna_tamanho_arquivos(caminho, profundidade=1, tamanho_linha=0):\n",
    "    if profundidade == 0:\n",
    "        return\n",
    "\n",
    "    for diretorio in caminho.glob('*'):\n",
    "        if diretorio.is_dir() and not diretorio.name.startswith('-'):\n",
    "            tamanho_diretorio = 0\n",
    "            for arquivo in diretorio.glob('**/*'):\n",
    "                if arquivo.is_file():\n",
    "                    tamanho_diretorio += os.path.getsize(arquivo)\n",
    "            print('--' * tamanho_linha, diretorio.name, round(tamanho_diretorio / 1024 / 1024, 2), 'mb')\n",
    "\n",
    "            # Chama recursivamente com profundidade reduzida\n",
    "            retorna_tamanho_arquivos(diretorio, profundidade=profundidade - 1, tamanho_linha=tamanho_linha + 1)\n",
    "\n",
    "# Exemplo de uso:\n",
    "retorna_tamanho_arquivos(Path('.'), profundidade=2)\n"
   ]
  },
  {
   "cell_type": "code",
   "execution_count": null,
   "metadata": {},
   "outputs": [],
   "source": []
  }
 ],
 "metadata": {
  "kernelspec": {
   "display_name": ".venv",
   "language": "python",
   "name": "python3"
  },
  "language_info": {
   "codemirror_mode": {
    "name": "ipython",
    "version": 3
   },
   "file_extension": ".py",
   "mimetype": "text/x-python",
   "name": "python",
   "nbconvert_exporter": "python",
   "pygments_lexer": "ipython3",
   "version": "3.13.3"
  }
 },
 "nbformat": 4,
 "nbformat_minor": 2
}
