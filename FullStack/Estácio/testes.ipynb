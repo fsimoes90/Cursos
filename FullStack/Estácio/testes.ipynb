{
 "cells": [
  {
   "cell_type": "code",
   "execution_count": 3,
   "metadata": {},
   "outputs": [
    {
     "data": {
      "text/plain": [
       "34"
      ]
     },
     "execution_count": 3,
     "metadata": {},
     "output_type": "execute_result"
    }
   ],
   "source": [
    "class A:\n",
    "    a=1\n",
    "    \n",
    "class B(A):\n",
    "    _c\n",
    "    \n",
    "    def __init__(self):\n",
    "        print (self.a)\n",
    "        print (self._c)\n",
    "        \n",
    "a = A()\n",
    "print (isinstance(a,B))\n",
    "\n",
    "b = B()\n",
    "print (isinstance(b,B))\n",
    "\n",
    "b=a()\n",
    "print (isinstance(b,A))        "
   ]
  }
 ],
 "metadata": {
  "kernelspec": {
   "display_name": "Python 3",
   "language": "python",
   "name": "python3"
  },
  "language_info": {
   "codemirror_mode": {
    "name": "ipython",
    "version": 3
   },
   "file_extension": ".py",
   "mimetype": "text/x-python",
   "name": "python",
   "nbconvert_exporter": "python",
   "pygments_lexer": "ipython3",
   "version": "3.11.4"
  },
  "orig_nbformat": 4
 },
 "nbformat": 4,
 "nbformat_minor": 2
}
