{
 "cells": [
  {
   "cell_type": "markdown",
   "metadata": {},
   "source": [
    "1. Crie um algoritmo que exiba na tela (terminal) a mensagem \"Olá Mundo\"."
   ]
  },
  {
   "cell_type": "code",
   "execution_count": null,
   "metadata": {},
   "outputs": [],
   "source": [
    "print(\"Olá Mundo\")"
   ]
  },
  {
   "cell_type": "markdown",
   "metadata": {},
   "source": [
    "2. Crie um algoritmo que exiba na tela (terminal) seu nome. Por exemplo: \"Olá,\n",
    "João Paulo.\""
   ]
  },
  {
   "cell_type": "code",
   "execution_count": null,
   "metadata": {},
   "outputs": [],
   "source": [
    "nome = \"Fernando\"\n",
    "print(f\"Olá, {nome}.\")"
   ]
  },
  {
   "cell_type": "markdown",
   "metadata": {},
   "source": [
    "3. Crie um algoritmo que exiba na tela (terminal) sua idade. Por exemplo: 17."
   ]
  },
  {
   "cell_type": "code",
   "execution_count": null,
   "metadata": {},
   "outputs": [],
   "source": [
    "idade = 33\n",
    "print(idade)"
   ]
  },
  {
   "cell_type": "markdown",
   "metadata": {},
   "source": [
    "4. Crie um algoritmo que exiba na tela (terminal) (em linhas separadas) seu\n",
    "nome e sua idade."
   ]
  },
  {
   "cell_type": "code",
   "execution_count": null,
   "metadata": {},
   "outputs": [],
   "source": [
    "print(\"Nome:\", nome)\n",
    "print(\"Idade:\", idade)"
   ]
  },
  {
   "cell_type": "markdown",
   "metadata": {},
   "source": [
    "5. Crie um algoritmo que exiba na tela (terminal) (na mesma linha) seu nome\n",
    "e sua idade."
   ]
  },
  {
   "cell_type": "code",
   "execution_count": null,
   "metadata": {},
   "outputs": [],
   "source": [
    "print(\"Nome:\", nome, \"Idade:\", idade)"
   ]
  },
  {
   "cell_type": "markdown",
   "metadata": {},
   "source": [
    "6. Crie um algoritmo que exiba na tela (terminal) a soma de dois números\n",
    "inteiros."
   ]
  },
  {
   "cell_type": "code",
   "execution_count": null,
   "metadata": {},
   "outputs": [],
   "source": [
    "num1 = 5\n",
    "num2 = 3\n",
    "soma = num1 + num2\n",
    "print(\"Soma:\", soma)"
   ]
  },
  {
   "cell_type": "markdown",
   "metadata": {},
   "source": [
    "7. Crie um algoritmo que exiba na tela (terminal) a subtração de dois números\n",
    "inteiros."
   ]
  },
  {
   "cell_type": "code",
   "execution_count": null,
   "metadata": {},
   "outputs": [],
   "source": [
    "subtracao = num1 - num2\n",
    "print(\"Subtração:\", subtracao)"
   ]
  },
  {
   "cell_type": "markdown",
   "metadata": {},
   "source": [
    "8. Crie um algoritmo que exiba na tela (terminal) a multiplicação de dois\n",
    "números inteiros."
   ]
  },
  {
   "cell_type": "code",
   "execution_count": null,
   "metadata": {},
   "outputs": [],
   "source": [
    "multiplicacao = num1 * num2\n",
    "print(\"Multiplicação:\", multiplicacao)"
   ]
  },
  {
   "cell_type": "markdown",
   "metadata": {},
   "source": [
    "9. Crie um algoritmo que exiba na tela (terminal) a divisão de dois números\n",
    "inteiros."
   ]
  },
  {
   "cell_type": "code",
   "execution_count": null,
   "metadata": {},
   "outputs": [],
   "source": [
    "divisao = num1 / num2\n",
    "print(\"Divisão:\", divisao)"
   ]
  },
  {
   "cell_type": "markdown",
   "metadata": {},
   "source": [
    "10. Crie um algoritmo que exiba na tela (terminal) o resto da divisão de dois\n",
    "números inteiros."
   ]
  },
  {
   "cell_type": "code",
   "execution_count": null,
   "metadata": {},
   "outputs": [],
   "source": [
    "resto_divisao = num1 % num2\n",
    "print(\"Resto da Divisão:\", resto_divisao)"
   ]
  },
  {
   "cell_type": "markdown",
   "metadata": {},
   "source": [
    "11. Crie um algoritmo que exiba na tela (terminal) apenas a parte inteira de\n",
    "uma divisão de dois números inteiros."
   ]
  },
  {
   "cell_type": "code",
   "execution_count": null,
   "metadata": {},
   "outputs": [],
   "source": [
    "divisao_inteira = num1 // num2\n",
    "print(\"Parte Inteira da Divisão:\", divisao_inteira)"
   ]
  },
  {
   "cell_type": "markdown",
   "metadata": {},
   "source": [
    "12. Crie um algoritmo que exiba na tela (terminal) o quadrado de um número\n",
    "inteiro."
   ]
  },
  {
   "cell_type": "code",
   "execution_count": null,
   "metadata": {},
   "outputs": [],
   "source": [
    "quadrado_num = num1 ** 2\n",
    "print(\"Quadrado do Número:\", quadrado_num)"
   ]
  },
  {
   "cell_type": "markdown",
   "metadata": {},
   "source": [
    "13. Crie um algoritmo que exiba na tela (terminal) o valor lógico de uma\n",
    "variável qualquer."
   ]
  },
  {
   "cell_type": "code",
   "execution_count": null,
   "metadata": {},
   "outputs": [],
   "source": [
    "variavel_logica = True\n",
    "print(\"Valor Lógico da Variável:\", variavel_logica)"
   ]
  },
  {
   "cell_type": "markdown",
   "metadata": {},
   "source": [
    "14. Crie um algoritmo que exiba na tela (terminal) o tipo de uma variável cujo\n",
    "valor atribuído é \"jpaulo@infinityschoool.com.br\"."
   ]
  },
  {
   "cell_type": "code",
   "execution_count": null,
   "metadata": {},
   "outputs": [],
   "source": [
    "tipo_variavel_str = \"jpaulo@infinityschoool.com.br\"\n",
    "print(\"Tipo da Variável:\", type(tipo_variavel_str))"
   ]
  },
  {
   "cell_type": "markdown",
   "metadata": {},
   "source": [
    "15. Crie um algoritmo que exiba na tela (terminal) o tipo de uma variável cujo\n",
    "valor atribuído é \"c\"."
   ]
  },
  {
   "cell_type": "code",
   "execution_count": null,
   "metadata": {},
   "outputs": [],
   "source": [
    "tipo_variavel_char = \"c\"\n",
    "print(\"Tipo da Variável:\", type(tipo_variavel_char))"
   ]
  },
  {
   "cell_type": "markdown",
   "metadata": {},
   "source": [
    "16. Crie um algoritmo que exiba na tela (terminal) o tipo de uma variável cujo\n",
    "valor atribuído é 12."
   ]
  },
  {
   "cell_type": "code",
   "execution_count": null,
   "metadata": {},
   "outputs": [],
   "source": [
    "tipo_variavel_int = 12\n",
    "print(\"Tipo da Variável:\", type(tipo_variavel_int))"
   ]
  },
  {
   "cell_type": "markdown",
   "metadata": {},
   "source": [
    "17. Crie um algoritmo que exiba na tela (terminal) o tipo de uma variável cujo\n",
    "valor atribuído é 1.87."
   ]
  },
  {
   "cell_type": "code",
   "execution_count": null,
   "metadata": {},
   "outputs": [],
   "source": [
    "tipo_variavel_float = 1.87\n",
    "print(\"Tipo da Variável:\", type(tipo_variavel_float))"
   ]
  },
  {
   "cell_type": "markdown",
   "metadata": {},
   "source": [
    "18. Crie um algoritmo que exiba na tela (terminal) o tipo de uma variável cujo\n",
    "valor atribuído é False."
   ]
  },
  {
   "cell_type": "code",
   "execution_count": null,
   "metadata": {},
   "outputs": [],
   "source": [
    "tipo_variavel_bool = False\n",
    "print(\"Tipo da Variável:\", type(tipo_variavel_bool))"
   ]
  },
  {
   "cell_type": "markdown",
   "metadata": {},
   "source": [
    "19. Crie um algoritmo que concatene duas strings ao ser executado. Exiba a\n",
    "string concatenada na tela (terminal)."
   ]
  },
  {
   "cell_type": "code",
   "execution_count": null,
   "metadata": {},
   "outputs": [],
   "source": [
    "tr1 = \"Hello\"\n",
    "str2 = \" World!\"\n",
    "string_concatenada = str1 + str2\n",
    "print(\"String Concatenada:\", string_concatenada)"
   ]
  },
  {
   "cell_type": "markdown",
   "metadata": {},
   "source": [
    "20. Crie um algoritmo que concatene dois numeros inteiros ao ser executado.\n",
    "Exiba os números concatenados na tela (terminal)."
   ]
  },
  {
   "cell_type": "code",
   "execution_count": null,
   "metadata": {},
   "outputs": [],
   "source": [
    "num3 = 10\n",
    "num4 = 20\n",
    "num_concatenado = int(str(num3) + str(num4))\n",
    "print(\"Números Concatenados:\", num_concatenado)"
   ]
  }
 ],
 "metadata": {
  "language_info": {
   "name": "python"
  }
 },
 "nbformat": 4,
 "nbformat_minor": 2
}
